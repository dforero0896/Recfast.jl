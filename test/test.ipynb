{
 "cells": [
  {
   "cell_type": "code",
   "execution_count": 1,
   "metadata": {},
   "outputs": [],
   "source": [
    "using Recfast\n"
   ]
  },
  {
   "cell_type": "code",
   "execution_count": 2,
   "metadata": {},
   "outputs": [],
   "source": [
    "using Plots"
   ]
  },
  {
   "cell_type": "code",
   "execution_count": 2,
   "metadata": {},
   "outputs": [
    {
     "name": "stdout",
     "output_type": "stream",
     "text": [
      "fieldnames(Params) = (:Yp, :T0, :Omega_M, :Omega_B, :Omega_K, :h100, :n_eff, :F, :rescaling, :fHe, :H0, :Omega_L, :artificial)\n"
     ]
    },
    {
     "data": {
      "text/plain": [
       "(:Yp, :T0, :Omega_M, :Omega_B, :Omega_K, :h100, :n_eff, :F, :rescaling, :fHe, :H0, :Omega_L, :artificial)"
      ]
     },
     "metadata": {},
     "output_type": "display_data"
    }
   ],
   "source": [
    "@show fieldnames(Params)\n"
   ]
  },
  {
   "cell_type": "code",
   "execution_count": 3,
   "metadata": {},
   "outputs": [
    {
     "data": {
      "text/plain": [
       "Params\n",
       "  Yp: Float64 0.24\n",
       "  T0: Float64 2.725\n",
       "  Omega_M: Float64 0.26\n",
       "  Omega_B: Float64 0.044\n",
       "  Omega_K: Float64 0.0\n",
       "  h100: Float64 0.6774\n",
       "  n_eff: Float64 3.04\n",
       "  F: Float64 1.14\n",
       "  rescaling: Recfast.Variables_Fund_Consts\n",
       "  fHe: Float64 0.07951338564949938\n",
       "  H0: Float64 2.1953019921620198e-18\n",
       "  Omega_L: Float64 0.7399089660939351\n",
       "  artificial: StaticArraysCore.SVector{16, Float64}\n"
      ]
     },
     "metadata": {},
     "output_type": "display_data"
    }
   ],
   "source": [
    "params = Params()\n"
   ]
  },
  {
   "cell_type": "code",
   "execution_count": 4,
   "metadata": {},
   "outputs": [],
   "source": [
    "sol = Evaluate_recombination(params, logzstart = 4., logzend = -5,dt = 1e-2, dtmin = 1e-30)\n"
   ]
  },
  {
   "cell_type": "code",
   "execution_count": null,
   "metadata": {},
   "outputs": [],
   "source": [
    "\n",
    "x_He = sol.u[1,:]\n",
    "x_H = sol.u[2,:]\n",
    "T_m = sol.u[3,:]\n",
    "a = 1 ./ (1 .+ sol.t)\n",
    "p  = plot(sol.t, x_He, label=\"x_{He^+}\", xaxis = :log, yaxis=:log)\n",
    "plot!(p, sol.t, x_H, label=\"x_{H}\", xaxis = :log, yaxis=:log)"
   ]
  },
  {
   "cell_type": "code",
   "execution_count": null,
   "metadata": {},
   "outputs": [],
   "source": []
  }
 ],
 "metadata": {
  "kernelspec": {
   "display_name": "Julia 1.7.3",
   "language": "julia",
   "name": "julia-1.7"
  },
  "language_info": {
   "file_extension": ".jl",
   "mimetype": "application/julia",
   "name": "julia",
   "version": "1.7.3"
  },
  "orig_nbformat": 4
 },
 "nbformat": 4,
 "nbformat_minor": 2
}
